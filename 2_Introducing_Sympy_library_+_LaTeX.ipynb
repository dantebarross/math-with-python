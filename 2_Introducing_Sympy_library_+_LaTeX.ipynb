{
  "nbformat": 4,
  "nbformat_minor": 0,
  "metadata": {
    "colab": {
      "provenance": [],
      "authorship_tag": "ABX9TyMgo0qF9zh6MbLBeEq8Z7NC",
      "include_colab_link": true
    },
    "kernelspec": {
      "name": "python3",
      "display_name": "Python 3"
    },
    "language_info": {
      "name": "python"
    }
  },
  "cells": [
    {
      "cell_type": "markdown",
      "metadata": {
        "id": "view-in-github",
        "colab_type": "text"
      },
      "source": [
        "<a href=\"https://colab.research.google.com/github/dantebarross/math-with-python/blob/main/2_Introducing_Sympy_library_%2B_LaTeX.ipynb\" target=\"_parent\"><img src=\"https://colab.research.google.com/assets/colab-badge.svg\" alt=\"Open In Colab\"/></a>"
      ]
    },
    {
      "cell_type": "markdown",
      "source": [
        "## Knowing sympy package"
      ],
      "metadata": {
        "id": "d0qXhQH03ZwT"
      }
    },
    {
      "cell_type": "code",
      "execution_count": null,
      "metadata": {
        "id": "Qj3LKUStt9X7"
      },
      "outputs": [],
      "source": [
        "import sympy as sym\n",
        "from IPython.display import Math, display\n",
        "import numpy as np\n",
        "\n",
        "sym.init_printing() # nicer print"
      ]
    },
    {
      "cell_type": "code",
      "source": [
        "x, y = sym.symbols('x, y')\n",
        "print(x)\n",
        "print(y)"
      ],
      "metadata": {
        "colab": {
          "base_uri": "https://localhost:8080/"
        },
        "id": "YqXmMzgcw5MO",
        "outputId": "b86b5ebd-a99e-4b46-a0f8-207865bbdee4"
      },
      "execution_count": null,
      "outputs": [
        {
          "output_type": "stream",
          "name": "stdout",
          "text": [
            "x\n",
            "y\n"
          ]
        }
      ]
    },
    {
      "cell_type": "code",
      "source": [
        "y + 4 # here, `y` is a symbol"
      ],
      "metadata": {
        "colab": {
          "base_uri": "https://localhost:8080/",
          "height": 38
        },
        "id": "5gScOAv7w8zM",
        "outputId": "82a12e23-5565-41a1-ed9a-6fdb52506331"
      },
      "execution_count": null,
      "outputs": [
        {
          "output_type": "execute_result",
          "data": {
            "text/plain": [
              "y + 4"
            ],
            "image/png": "[encoded data removed]",
            "text/latex": "$\\displaystyle y + 4$"
          },
          "metadata": {},
          "execution_count": 16
        }
      ]
    },
    {
      "cell_type": "code",
      "source": [
        "print(x**y)"
      ],
      "metadata": {
        "colab": {
          "base_uri": "https://localhost:8080/"
        },
        "id": "Z43exGPoxOfi",
        "outputId": "42790c10-8837-4fc0-ccc4-50390ccac05e"
      },
      "execution_count": null,
      "outputs": [
        {
          "output_type": "stream",
          "name": "stdout",
          "text": [
            "x**y\n"
          ]
        }
      ]
    },
    {
      "cell_type": "code",
      "source": [
        "display(x**y)"
      ],
      "metadata": {
        "colab": {
          "base_uri": "https://localhost:8080/",
          "height": 38
        },
        "id": "ktXKtHZ9xQ3i",
        "outputId": "c492bec1-f2a7-4f9c-fe28-f6eedb9bfc11"
      },
      "execution_count": null,
      "outputs": [
        {
          "output_type": "display_data",
          "data": {
            "text/plain": [
              " y\n",
              "x "
            ],
            "image/png": "[encoded data removed]",
            "text/latex": "$\\displaystyle x^{y}$"
          },
          "metadata": {}
        }
      ]
    },
    {
      "cell_type": "code",
      "source": [
        "x**y"
      ],
      "metadata": {
        "colab": {
          "base_uri": "https://localhost:8080/",
          "height": 38
        },
        "id": "qYOiVSATxSL5",
        "outputId": "c2fd0089-1ee6-406a-ac34-8b0a8783a42e"
      },
      "execution_count": null,
      "outputs": [
        {
          "output_type": "execute_result",
          "data": {
            "text/plain": [
              " y\n",
              "x "
            ],
            "image/png": "[encoded data removed]",
            "text/latex": "$\\displaystyle x^{y}$"
          },
          "metadata": {},
          "execution_count": 22
        }
      ]
    },
    {
      "cell_type": "code",
      "source": [
        "display(np.sqrt(2))"
      ],
      "metadata": {
        "colab": {
          "base_uri": "https://localhost:8080/",
          "height": 37
        },
        "id": "wSAPJDQjxfn5",
        "outputId": "8a8c6db9-87e5-411e-e19c-cbeafe395d52"
      },
      "execution_count": null,
      "outputs": [
        {
          "output_type": "display_data",
          "data": {
            "text/plain": [
              "1.4142135623730951"
            ],
            "image/png": "[encoded data removed]",
            "text/latex": "$\\displaystyle 1.4142135623731$"
          },
          "metadata": {}
        }
      ]
    },
    {
      "cell_type": "code",
      "source": [
        "display(sym.sqrt(2)) # a sympy symbol to a square root of 2"
      ],
      "metadata": {
        "colab": {
          "base_uri": "https://localhost:8080/",
          "height": 39
        },
        "id": "uew1TTLGxjmn",
        "outputId": "2eb694b2-98ce-4d6c-85e0-538141cf921f"
      },
      "execution_count": null,
      "outputs": [
        {
          "output_type": "display_data",
          "data": {
            "text/plain": [
              "√2"
            ],
            "image/png": "[encoded data removed]",
            "text/latex": "$\\displaystyle \\sqrt{2}$"
          },
          "metadata": {}
        }
      ]
    },
    {
      "cell_type": "code",
      "source": [
        "# sympy didn't work well to these cases below, because we can't control its display\n",
        "display(y * x**2)\n",
        "display(sym.sqrt(4*x))\n",
        "display(sym.sqrt(x) * sym.sqrt(x))"
      ],
      "metadata": {
        "colab": {
          "base_uri": "https://localhost:8080/",
          "height": 80
        },
        "id": "BCh1YzWAxqrt",
        "outputId": "a9ad0b87-94f1-440b-c5f7-fdbca98de256"
      },
      "execution_count": null,
      "outputs": [
        {
          "output_type": "display_data",
          "data": {
            "text/plain": [
              " 2  \n",
              "x ⋅y"
            ],
            "image/png": "[encoded data removed]",
            "text/latex": "$\\displaystyle x^{2} y$"
          },
          "metadata": {}
        },
        {
          "output_type": "display_data",
          "data": {
            "text/plain": [
              "2⋅√x"
            ],
            "image/png": "[encoded data removed]",
            "text/latex": "$\\displaystyle 2 \\sqrt{x}$"
          },
          "metadata": {}
        },
        {
          "output_type": "display_data",
          "data": {
            "text/plain": [
              "x"
            ],
            "image/png": "[encoded data removed]",
            "text/latex": "$\\displaystyle x$"
          },
          "metadata": {}
        }
      ]
    },
    {
      "cell_type": "code",
      "source": [
        "# so, to have more control on display, we can use LaTeX\n",
        "\n"
      ],
      "metadata": {
        "colab": {
          "base_uri": "https://localhost:8080/",
          "height": 52
        },
        "id": "yAWgubLlyfoZ",
        "outputId": "f420ce8f-c621-4adb-87db-3b8bb762edd4"
      },
      "execution_count": null,
      "outputs": [
        {
          "output_type": "display_data",
          "data": {
            "text/plain": [
              "<IPython.core.display.Math object>"
            ],
            "text/latex": "$\\displaystyle \\frac{1+x}{2v-s^{t+4r}}$"
          },
          "metadata": {}
        }
      ]
    },
    {
      "cell_type": "code",
      "source": [
        "# another examples\n",
        "display(Math('\\\\sigma = \\\\mu \\\\times \\\\sqrt{5x+5z-17u}'))\n",
        "display(Math('x_{mm} + y^{n+2k-15}'))\n",
        "display(Math('\\\\text{The answer to this equation is} \\\\frac{1+x}{2v-s^{t+4r}}'))\n",
        "display(Math('\\\\sin(2 \\\\pi f t + \\\\theta)'))"
      ],
      "metadata": {
        "colab": {
          "base_uri": "https://localhost:8080/",
          "height": 117
        },
        "id": "v7rki-38y-Kn",
        "outputId": "8a7f9411-e6ab-48f6-999a-0324c0a8bdcf"
      },
      "execution_count": null,
      "outputs": [
        {
          "output_type": "display_data",
          "data": {
            "text/plain": [
              "<IPython.core.display.Math object>"
            ],
            "text/latex": "$\\displaystyle \\sigma = \\mu \\times \\sqrt{5x+5z-17u}$"
          },
          "metadata": {}
        },
        {
          "output_type": "display_data",
          "data": {
            "text/plain": [
              "<IPython.core.display.Math object>"
            ],
            "text/latex": "$\\displaystyle x_{mm} + y^{n+2k-15}$"
          },
          "metadata": {}
        },
        {
          "output_type": "display_data",
          "data": {
            "text/plain": [
              "<IPython.core.display.Math object>"
            ],
            "text/latex": "$\\displaystyle \\text{The answer to this equation is} \\frac{1+x}{2v-s^{t+4r}}$"
          },
          "metadata": {}
        },
        {
          "output_type": "display_data",
          "data": {
            "text/plain": [
              "<IPython.core.display.Math object>"
            ],
            "text/latex": "$\\displaystyle \\sin(2 \\pi f t + \\theta)$"
          },
          "metadata": {}
        }
      ]
    },
    {
      "cell_type": "markdown",
      "source": [
        "Now using LaTeX on MarkDown cell\n",
        "\n",
        "$$x_{mm} + y^{n+2k-15}$$\n",
        "\n",
        "Here, note that I'm using only one backslash, because is like that on real LaTeX:\n",
        "\n",
        "$$\\frac{1+x}{2v-s^{t+4r}}$$"
      ],
      "metadata": {
        "id": "fSd1aMD9zXAW"
      }
    },
    {
      "cell_type": "code",
      "source": [
        "# let's continuate with the sympy library\n",
        "\n",
        "# another symbols\n",
        "mu, alpha, sigma = sym.symbols('mu, alpha, sigma')\n",
        "display(mu)\n",
        "display(alpha)\n",
        "display(sigma)"
      ],
      "metadata": {
        "colab": {
          "base_uri": "https://localhost:8080/",
          "height": 81
        },
        "id": "vORkM11-zeLA",
        "outputId": "75a0c809-7bee-4d1b-842a-73448c937712"
      },
      "execution_count": null,
      "outputs": [
        {
          "output_type": "display_data",
          "data": {
            "text/plain": [
              "μ"
            ],
            "image/png": "[encoded data removed]",
            "text/latex": "$\\displaystyle \\mu$"
          },
          "metadata": {}
        },
        {
          "output_type": "display_data",
          "data": {
            "text/plain": [
              "α"
            ],
            "image/png": "[encoded data removed]",
            "text/latex": "$\\displaystyle \\alpha$"
          },
          "metadata": {}
        },
        {
          "output_type": "display_data",
          "data": {
            "text/plain": [
              "σ"
            ],
            "image/png": "[encoded data removed]",
            "text/latex": "$\\displaystyle \\sigma$"
          },
          "metadata": {}
        }
      ]
    },
    {
      "cell_type": "code",
      "source": [
        "display(sym.exp( (mu-alpha)**2 / (2*sigma**2))) # let's display this expression"
      ],
      "metadata": {
        "colab": {
          "base_uri": "https://localhost:8080/",
          "height": 46
        },
        "id": "E5AeUnc10HJ0",
        "outputId": "f76457bc-493a-4789-f0ef-1c7c2a10d125"
      },
      "execution_count": null,
      "outputs": [
        {
          "output_type": "display_data",
          "data": {
            "text/plain": [
              "         2\n",
              " (-α + μ) \n",
              " ─────────\n",
              "       2  \n",
              "    2⋅σ   \n",
              "ℯ         "
            ],
            "image/png": "[encoded data removed]",
            "text/latex": "$\\displaystyle e^{\\frac{\\left(- \\alpha + \\mu\\right)^{2}}{2 \\sigma^{2}}}$"
          },
          "metadata": {}
        }
      ]
    },
    {
      "cell_type": "code",
      "source": [
        "x = sym.symbols('x')\n",
        "expr = x + 4\n",
        "expr.subs(x, 6) # here we are substituting the `x` in the `expr` variable to a 6, so 6 + 4 is 10"
      ],
      "metadata": {
        "colab": {
          "base_uri": "https://localhost:8080/",
          "height": 37
        },
        "id": "2bLpmECo0iHN",
        "outputId": "72415bca-122b-4407-d648-9000423076c3"
      },
      "execution_count": null,
      "outputs": [
        {
          "output_type": "execute_result",
          "data": {
            "text/plain": [
              "10"
            ],
            "image/png": "[encoded data removed]",
            "text/latex": "$\\displaystyle 10$"
          },
          "metadata": {},
          "execution_count": 52
        }
      ]
    },
    {
      "cell_type": "code",
      "source": [
        "# another example\n",
        "x, y, z = sym.symbols('x, y, z')\n",
        "expr = (x + 4 + 2 * y) / z\n",
        "display(expr.subs({x: -4, y: 3, z: 3})) # 3/5"
      ],
      "metadata": {
        "colab": {
          "base_uri": "https://localhost:8080/",
          "height": 37
        },
        "id": "VVQ_sQo604Sl",
        "outputId": "bb52d539-7274-43f6-8565-c2d400c1cbdc"
      },
      "execution_count": null,
      "outputs": [
        {
          "output_type": "display_data",
          "data": {
            "text/plain": [
              "2"
            ],
            "image/png": "[encoded data removed]",
            "text/latex": "$\\displaystyle 2$"
          },
          "metadata": {}
        }
      ]
    },
    {
      "cell_type": "code",
      "source": [
        "sym.latex(expr) # the latex string"
      ],
      "metadata": {
        "colab": {
          "base_uri": "https://localhost:8080/",
          "height": 35
        },
        "id": "hoxTIzdB1Ee-",
        "outputId": "3d633b02-403f-4547-dadc-cda54b3203da"
      },
      "execution_count": null,
      "outputs": [
        {
          "output_type": "execute_result",
          "data": {
            "text/plain": [
              "'\\\\frac{x + 2 y + 4}{z}'"
            ],
            "application/vnd.google.colaboratory.intrinsic+json": {
              "type": "string"
            }
          },
          "metadata": {},
          "execution_count": 74
        }
      ]
    },
    {
      "cell_type": "code",
      "source": [
        "display(Math(sym.latex(expr))) # and now we are using sympy.latex to display the latex of this expression"
      ],
      "metadata": {
        "colab": {
          "base_uri": "https://localhost:8080/",
          "height": 51
        },
        "id": "K5APj-aO1keQ",
        "outputId": "a1ef1af8-935f-4134-b6f3-8fe6d6f0e2e9"
      },
      "execution_count": null,
      "outputs": [
        {
          "output_type": "display_data",
          "data": {
            "text/plain": [
              "<IPython.core.display.Math object>"
            ],
            "text/latex": "$\\displaystyle \\frac{x + 2 y + 4}{z}$"
          },
          "metadata": {}
        }
      ]
    },
    {
      "cell_type": "code",
      "source": [
        "display(Math(sym.latex(sym.sympify('3/4'))))"
      ],
      "metadata": {
        "colab": {
          "base_uri": "https://localhost:8080/",
          "height": 51
        },
        "id": "MgchSZDj19_K",
        "outputId": "3711b9e2-f116-4f3e-a098-9854ceb8fba0"
      },
      "execution_count": null,
      "outputs": [
        {
          "output_type": "display_data",
          "data": {
            "text/plain": [
              "<IPython.core.display.Math object>"
            ],
            "text/latex": "$\\displaystyle \\frac{3}{4}$"
          },
          "metadata": {}
        }
      ]
    },
    {
      "cell_type": "markdown",
      "source": [
        "## Let's use sympy to understand the law of exponentials"
      ],
      "metadata": {
        "id": "iSJZhPRi3Qnw"
      }
    },
    {
      "cell_type": "code",
      "source": [
        "x, y, z = sym.symbols('x, y, z')\n",
        "ex = x ** y * x ** z\n",
        "display(ex) # here we can see the pure expression\n",
        "display(sym.simplify(ex)) # and now simplified (if some expression can be simplified)"
      ],
      "metadata": {
        "colab": {
          "base_uri": "https://localhost:8080/",
          "height": 60
        },
        "id": "A-DJD-rB3Upq",
        "outputId": "f4b2c12f-0730-4949-8633-ce1ecc00655b"
      },
      "execution_count": null,
      "outputs": [
        {
          "output_type": "display_data",
          "data": {
            "text/plain": [
              " y  z\n",
              "x ⋅x "
            ],
            "image/png": "[encoded data removed]",
            "text/latex": "$\\displaystyle x^{y} x^{z}$"
          },
          "metadata": {}
        },
        {
          "output_type": "display_data",
          "data": {
            "text/plain": [
              " y + z\n",
              "x     "
            ],
            "image/png": "[encoded data removed]",
            "text/latex": "$\\displaystyle x^{y + z}$"
          },
          "metadata": {}
        }
      ]
    },
    {
      "cell_type": "code",
      "source": [
        "# another examples on exponentials\n",
        "ex1 = x**y * x**z\n",
        "ex2 = x**y / x**z\n",
        "ex3 = x**y * y**z\n",
        "\n",
        "display(Math('%s = %s' %(ex1, sym.simplify(ex1))))\n",
        "display(Math('%s = %s' %(ex2, sym.simplify(ex2))))\n",
        "display(Math('%s = %s' %(ex3, sym.simplify(ex3))))\n",
        "\n",
        "# these displays aren't beautiful."
      ],
      "metadata": {
        "colab": {
          "base_uri": "https://localhost:8080/",
          "height": 81
        },
        "id": "C6cOgzAa4SPE",
        "outputId": "69f5c2af-4276-480d-febd-a4184db045dd"
      },
      "execution_count": null,
      "outputs": [
        {
          "output_type": "display_data",
          "data": {
            "text/plain": [
              "<IPython.core.display.Math object>"
            ],
            "text/latex": "$\\displaystyle x**y*x**z = x**(y + z)$"
          },
          "metadata": {}
        },
        {
          "output_type": "display_data",
          "data": {
            "text/plain": [
              "<IPython.core.display.Math object>"
            ],
            "text/latex": "$\\displaystyle x**y*x**(-z) = x**(y - z)$"
          },
          "metadata": {}
        },
        {
          "output_type": "display_data",
          "data": {
            "text/plain": [
              "<IPython.core.display.Math object>"
            ],
            "text/latex": "$\\displaystyle x**y*y**z = x**y*y**z$"
          },
          "metadata": {}
        }
      ]
    },
    {
      "cell_type": "code",
      "source": [
        "# let's convert this to latex using sym.latex\n",
        "\n",
        "display(Math('%s = %s' %(sym.latex(ex1), sym.latex(sym.simplify(ex1)))))\n",
        "display(Math('%s = %s' %(sym.latex(ex2), sym.latex(sym.simplify(ex2)))))\n",
        "display(Math('%s = %s' %(sym.latex(ex3), sym.latex(sym.simplify(ex3)))))"
      ],
      "metadata": {
        "colab": {
          "base_uri": "https://localhost:8080/",
          "height": 81
        },
        "id": "GAqjihkC4muI",
        "outputId": "dbbbfad8-a227-4dd4-f328-e42e6a6f0f6b"
      },
      "execution_count": null,
      "outputs": [
        {
          "output_type": "display_data",
          "data": {
            "text/plain": [
              "<IPython.core.display.Math object>"
            ],
            "text/latex": "$\\displaystyle x^{y} x^{z} = x^{y + z}$"
          },
          "metadata": {}
        },
        {
          "output_type": "display_data",
          "data": {
            "text/plain": [
              "<IPython.core.display.Math object>"
            ],
            "text/latex": "$\\displaystyle x^{y} x^{- z} = x^{y - z}$"
          },
          "metadata": {}
        },
        {
          "output_type": "display_data",
          "data": {
            "text/plain": [
              "<IPython.core.display.Math object>"
            ],
            "text/latex": "$\\displaystyle x^{y} y^{z} = x^{y} y^{z}$"
          },
          "metadata": {}
        }
      ]
    },
    {
      "cell_type": "code",
      "source": [
        "sym.Eq(4, 2+2) # parameters = left side of equation and right side of equation"
      ],
      "metadata": {
        "colab": {
          "base_uri": "https://localhost:8080/",
          "height": 37
        },
        "id": "1OIZrtJu5BtJ",
        "outputId": "4093df6d-b70e-4f1f-93b8-71ea9276a066"
      },
      "execution_count": null,
      "outputs": [
        {
          "output_type": "execute_result",
          "data": {
            "text/plain": [
              "True"
            ],
            "text/latex": "$\\displaystyle \\text{True}$"
          },
          "metadata": {},
          "execution_count": 84
        }
      ]
    },
    {
      "cell_type": "code",
      "source": [
        "sym.Eq(4, 2+3) # parameters = left side of equation and right side of equation"
      ],
      "metadata": {
        "colab": {
          "base_uri": "https://localhost:8080/",
          "height": 37
        },
        "id": "VeGgOcWb5MTr",
        "outputId": "eda8a390-dce1-4985-9ab7-41fe4e643726"
      },
      "execution_count": null,
      "outputs": [
        {
          "output_type": "execute_result",
          "data": {
            "text/plain": [
              "False"
            ],
            "text/latex": "$\\displaystyle \\text{False}$"
          },
          "metadata": {},
          "execution_count": 85
        }
      ]
    },
    {
      "cell_type": "code",
      "source": [],
      "metadata": {
        "id": "4ORbnXEl5SzO"
      },
      "execution_count": null,
      "outputs": []
    }
  ]
}